{
 "cells": [
  {
   "cell_type": "code",
   "execution_count": 9,
   "metadata": {},
   "outputs": [
    {
     "name": "stdout",
     "output_type": "stream",
     "text": [
      "enter user name: donaldtrump\n",
      "enter password: ****\n",
      "\n",
      "\n",
      " login successful...\n"
     ]
    }
   ],
   "source": [
    "user_name=\"donaldtrump\"\n",
    "psswd=\"****\"\n",
    "count=1\n",
    "\n",
    "enter_name=input(\"enter user name: \")\n",
    "enter_psswd=input(\"enter password: \")\n",
    "\n",
    "\n",
    "while user_name==enter_name and count<=5:\n",
    "    if psswd==enter_psswd:\n",
    "        print(\"\\n\\n\",\"login successful...\")\n",
    "        break\n",
    "    else:\n",
    "        enter_psswd=input(\"incorrect password try again: \")\n",
    "        \n",
    "    count=count+1\n",
    "else:\n",
    "    print(\"invalid user!\")\n",
    "    \n",
    "if count==6:\n",
    "    print(\"\\n\\n\",\"entered wrong password multiple times,your account was banned!!!\")\n",
    "    "
   ]
  },
  {
   "cell_type": "code",
   "execution_count": null,
   "metadata": {},
   "outputs": [],
   "source": []
  }
 ],
 "metadata": {
  "kernelspec": {
   "display_name": "Python 3",
   "language": "python",
   "name": "python3"
  },
  "language_info": {
   "codemirror_mode": {
    "name": "ipython",
    "version": 3
   },
   "file_extension": ".py",
   "mimetype": "text/x-python",
   "name": "python",
   "nbconvert_exporter": "python",
   "pygments_lexer": "ipython3",
   "version": "3.7.3"
  }
 },
 "nbformat": 4,
 "nbformat_minor": 2
}
